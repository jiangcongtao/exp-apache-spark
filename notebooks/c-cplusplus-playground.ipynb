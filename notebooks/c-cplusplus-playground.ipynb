{
 "cells": [
  {
   "cell_type": "code",
   "execution_count": 8,
   "id": "15de2759-4b3f-428e-9977-329fadcbadb8",
   "metadata": {
    "tags": []
   },
   "outputs": [],
   "source": [
    "#include <stdio.h>\n",
    "#include <iostream>\n",
    "using namespace std;"
   ]
  },
  {
   "cell_type": "code",
   "execution_count": 9,
   "id": "4ff90a47-8c2e-4484-a196-10437a80f7b4",
   "metadata": {},
   "outputs": [
    {
     "name": "stdout",
     "output_type": "stream",
     "text": [
      "Hello C++ Language\n"
     ]
    }
   ],
   "source": [
    "cout << \"Hello C++ Language\" << endl;"
   ]
  },
  {
   "cell_type": "code",
   "execution_count": 10,
   "id": "840f415b-d8db-4d6b-abde-f0c13e2204a4",
   "metadata": {},
   "outputs": [
    {
     "name": "stdout",
     "output_type": "stream",
     "text": [
      "Hello C Language"
     ]
    }
   ],
   "source": [
    "printf(\"Hello C Language\");"
   ]
  },
  {
   "cell_type": "code",
   "execution_count": 11,
   "id": "ee1ee67b-97dd-4757-befb-824e29a3139e",
   "metadata": {
    "tags": []
   },
   "outputs": [],
   "source": [
    "int square(int x) { return x * x; }"
   ]
  },
  {
   "cell_type": "code",
   "execution_count": 12,
   "id": "78fd0733-b37d-47af-ab74-21ac7cb92966",
   "metadata": {
    "tags": []
   },
   "outputs": [],
   "source": [
    "// Cause kernel restarting\n",
    "// %%executable square.x\n",
    "// cout << square(4) << endl;"
   ]
  },
  {
   "cell_type": "code",
   "execution_count": null,
   "id": "448527f8-02b2-4ea8-900f-ede1b930ca80",
   "metadata": {
    "tags": []
   },
   "outputs": [],
   "source": [
    "// Cause kernel restarting\n",
    "!./square.x"
   ]
  },
  {
   "cell_type": "code",
   "execution_count": null,
   "id": "874afd3f-b5f2-4fc1-af9a-59fd1f1e4da3",
   "metadata": {},
   "outputs": [],
   "source": []
  }
 ],
 "metadata": {
  "kernelspec": {
   "display_name": "C++11",
   "language": "C++11",
   "name": "xcpp11"
  },
  "language_info": {
   "codemirror_mode": "text/x-c++src",
   "file_extension": ".cpp",
   "mimetype": "text/x-c++src",
   "name": "c++",
   "version": "11"
  }
 },
 "nbformat": 4,
 "nbformat_minor": 5
}
