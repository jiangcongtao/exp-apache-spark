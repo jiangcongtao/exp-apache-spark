{
 "cells": [
  {
   "cell_type": "markdown",
   "id": "0cdaa729-bf94-400d-9255-74a78e7d92f5",
   "metadata": {},
   "source": [
    "## First PySpark Application"
   ]
  },
  {
   "cell_type": "code",
   "execution_count": 1,
   "id": "f0be21b8-3df8-4442-9afa-752517ea3dd6",
   "metadata": {
    "tags": []
   },
   "outputs": [
    {
     "data": {
      "text/plain": [
       "'3.4.0'"
      ]
     },
     "execution_count": 1,
     "metadata": {},
     "output_type": "execute_result"
    }
   ],
   "source": [
    "import pyspark\n",
    "pyspark.__version__"
   ]
  },
  {
   "cell_type": "code",
   "execution_count": 9,
   "id": "d8894a68-3b4c-4e9d-8060-ab1f20946729",
   "metadata": {},
   "outputs": [
    {
     "name": "stdout",
     "output_type": "stream",
     "text": [
      "--2023-05-16 02:58:37--  https://raw.githubusercontent.com/JarVISION/PySpark/master/iris.csv\n",
      "Resolving raw.githubusercontent.com (raw.githubusercontent.com)... ::ffff:146.112.54.179, ::ffff:146.112.54.242, ::ffff:146.112.251.223, ...\n",
      "Connecting to raw.githubusercontent.com (raw.githubusercontent.com)|::ffff:146.112.54.179|:443... connected.\n",
      "WARNING: cannot verify raw.githubusercontent.com's certificate, issued by ‘CN=Cisco Umbrella Secondary SubCA hkg-SG,O=Cisco’:\n",
      "  Unable to locally verify the issuer's authority.\n",
      "HTTP request sent, awaiting response... 302 Moved Temporarily\n",
      "Location: https://raw.githubusercontent.com.x.da68551607431043c009b57034cb043c9247.9270fb50.id.opendns.com/s/raw.githubusercontent.com/JarVISION/PySpark/master/iris.csv?X-OpenDNS-Session=_da68551607431043c009b57034cb043c92479270fb50_kcJrtUPe_ [following]\n",
      "--2023-05-16 02:58:37--  https://raw.githubusercontent.com.x.da68551607431043c009b57034cb043c9247.9270fb50.id.opendns.com/s/raw.githubusercontent.com/JarVISION/PySpark/master/iris.csv?X-OpenDNS-Session=_da68551607431043c009b57034cb043c92479270fb50_kcJrtUPe_\n",
      "Resolving raw.githubusercontent.com.x.da68551607431043c009b57034cb043c9247.9270fb50.id.opendns.com (raw.githubusercontent.com.x.da68551607431043c009b57034cb043c9247.9270fb50.id.opendns.com)... 146.112.251.80\n",
      "Connecting to raw.githubusercontent.com.x.da68551607431043c009b57034cb043c9247.9270fb50.id.opendns.com (raw.githubusercontent.com.x.da68551607431043c009b57034cb043c9247.9270fb50.id.opendns.com)|146.112.251.80|:443... connected.\n",
      "WARNING: cannot verify raw.githubusercontent.com.x.da68551607431043c009b57034cb043c9247.9270fb50.id.opendns.com's certificate, issued by ‘CN=Cisco Umbrella Secondary SubCA hkg-SG,O=Cisco’:\n",
      "  Unable to locally verify the issuer's authority.\n",
      "HTTP request sent, awaiting response... 302 Moved Temporarily\n",
      "Location: https://raw.githubusercontent.com/JarVISION/PySpark/master/iris.csv?X-OpenDNS-Session=_da68551607431043c009b57034cb043c92479270fb50_kcJrtUPe_ [following]\n",
      "--2023-05-16 02:58:38--  https://raw.githubusercontent.com/JarVISION/PySpark/master/iris.csv?X-OpenDNS-Session=_da68551607431043c009b57034cb043c92479270fb50_kcJrtUPe_\n",
      "Connecting to raw.githubusercontent.com (raw.githubusercontent.com)|::ffff:146.112.54.179|:443... connected.\n",
      "WARNING: cannot verify raw.githubusercontent.com's certificate, issued by ‘CN=Cisco Umbrella Secondary SubCA hkg-SG,O=Cisco’:\n",
      "  Unable to locally verify the issuer's authority.\n",
      "HTTP request sent, awaiting response... 302 Moved Temporarily\n",
      "Location: /JarVISION/PySpark/master/iris.csv [following]\n",
      "--2023-05-16 02:58:39--  https://raw.githubusercontent.com/JarVISION/PySpark/master/iris.csv\n",
      "Reusing existing connection to [raw.githubusercontent.com]:443.\n",
      "HTTP request sent, awaiting response... 200 OK\n",
      "Length: 4460 (4.4K) [text/plain]\n",
      "Saving to: ‘data/iris.csv’\n",
      "\n",
      "data/iris.csv       100%[===================>]   4.36K  --.-KB/s    in 0.001s  \n",
      "\n",
      "2023-05-16 02:58:39 (3.48 MB/s) - ‘data/iris.csv’ saved [4460/4460]\n",
      "\n"
     ]
    }
   ],
   "source": [
    "# Retrieve iris.csv sample code\n",
    "!wget --no-check-certificate https://raw.githubusercontent.com/JarVISION/PySpark/master/iris.csv -O data/iris.csv"
   ]
  },
  {
   "cell_type": "code",
   "execution_count": 5,
   "id": "e8141224-66ca-4cab-9f05-7d07c6e686b3",
   "metadata": {
    "tags": []
   },
   "outputs": [
    {
     "name": "stdout",
     "output_type": "stream",
     "text": [
      "Requirement already satisfied: wget in /opt/conda/lib/python3.10/site-packages (3.2)\n"
     ]
    }
   ],
   "source": [
    "!pip install wget\n",
    "import wget"
   ]
  },
  {
   "cell_type": "code",
   "execution_count": 7,
   "id": "cfa92f84-35c9-43ba-bea9-8bbc4d30cd2d",
   "metadata": {
    "tags": []
   },
   "outputs": [
    {
     "data": {
      "text/plain": [
       "'./data/iris.data'"
      ]
     },
     "execution_count": 7,
     "metadata": {},
     "output_type": "execute_result"
    }
   ],
   "source": [
    "url = \"https://archive.ics.uci.edu/ml/machine-learning-databases/iris/iris.data\"\n",
    "wget.download(url, out='./data/iris.data')"
   ]
  },
  {
   "cell_type": "code",
   "execution_count": 2,
   "id": "4dc031dc-a18f-481e-b0cf-2ae6befa2216",
   "metadata": {
    "tags": []
   },
   "outputs": [],
   "source": [
    "from pyspark.sql import SparkSession\n",
    "\n",
    "spark = SparkSession.\\\n",
    "        builder.\\\n",
    "        appName(\"pyspark-notebook\").\\\n",
    "        master(\"spark://spark-master:7077\").\\\n",
    "        config(\"spark.executor.memory\", \"512m\").\\\n",
    "        getOrCreate()"
   ]
  },
  {
   "cell_type": "code",
   "execution_count": 3,
   "id": "4dfaf5e3-4480-436c-8cdf-215e8f31df07",
   "metadata": {
    "tags": []
   },
   "outputs": [
    {
     "data": {
      "text/html": [
       "\n",
       "            <div>\n",
       "                <p><b>SparkSession - in-memory</b></p>\n",
       "                \n",
       "        <div>\n",
       "            <p><b>SparkContext</b></p>\n",
       "\n",
       "            <p><a href=\"http://39a3b6740d82:4041\">Spark UI</a></p>\n",
       "\n",
       "            <dl>\n",
       "              <dt>Version</dt>\n",
       "                <dd><code>v3.4.0</code></dd>\n",
       "              <dt>Master</dt>\n",
       "                <dd><code>spark://spark-master:7077</code></dd>\n",
       "              <dt>AppName</dt>\n",
       "                <dd><code>pyspark-notebook</code></dd>\n",
       "            </dl>\n",
       "        </div>\n",
       "        \n",
       "            </div>\n",
       "        "
      ],
      "text/plain": [
       "<pyspark.sql.session.SparkSession at 0xffff9e0ba9e0>"
      ]
     },
     "execution_count": 3,
     "metadata": {},
     "output_type": "execute_result"
    }
   ],
   "source": [
    "spark"
   ]
  },
  {
   "cell_type": "code",
   "execution_count": 4,
   "id": "a6b6f5c3-bd7a-41f6-961d-c2ee598d723a",
   "metadata": {
    "tags": []
   },
   "outputs": [],
   "source": [
    "data=spark.read.csv('/opt/spark-data/iris.data')"
   ]
  },
  {
   "cell_type": "code",
   "execution_count": 5,
   "id": "0412e790-08a1-4aee-af3c-614ae22154c2",
   "metadata": {},
   "outputs": [
    {
     "data": {
      "text/plain": [
       "DataFrame[_c0: string, _c1: string, _c2: string, _c3: string, _c4: string]"
      ]
     },
     "execution_count": 5,
     "metadata": {},
     "output_type": "execute_result"
    }
   ],
   "source": [
    "data"
   ]
  },
  {
   "cell_type": "code",
   "execution_count": 6,
   "id": "4a791e0a-f038-493b-9c67-f29ecc498886",
   "metadata": {
    "tags": []
   },
   "outputs": [
    {
     "name": "stdout",
     "output_type": "stream",
     "text": [
      "+---+---+---+---+-----------+\n",
      "|_c0|_c1|_c2|_c3|        _c4|\n",
      "+---+---+---+---+-----------+\n",
      "|5.1|3.5|1.4|0.2|Iris-setosa|\n",
      "|4.9|3.0|1.4|0.2|Iris-setosa|\n",
      "|4.7|3.2|1.3|0.2|Iris-setosa|\n",
      "|4.6|3.1|1.5|0.2|Iris-setosa|\n",
      "|5.0|3.6|1.4|0.2|Iris-setosa|\n",
      "|5.4|3.9|1.7|0.4|Iris-setosa|\n",
      "|4.6|3.4|1.4|0.3|Iris-setosa|\n",
      "|5.0|3.4|1.5|0.2|Iris-setosa|\n",
      "|4.4|2.9|1.4|0.2|Iris-setosa|\n",
      "|4.9|3.1|1.5|0.1|Iris-setosa|\n",
      "+---+---+---+---+-----------+\n",
      "only showing top 10 rows\n",
      "\n"
     ]
    }
   ],
   "source": [
    "data.show(n=10)"
   ]
  },
  {
   "cell_type": "code",
   "execution_count": 7,
   "id": "9cd06c84-61bc-4d43-a32d-873c8d20d334",
   "metadata": {},
   "outputs": [],
   "source": [
    "spark.stop()"
   ]
  },
  {
   "cell_type": "code",
   "execution_count": null,
   "id": "d3ab0820-092b-409e-839d-73bf04bf640c",
   "metadata": {},
   "outputs": [],
   "source": []
  }
 ],
 "metadata": {
  "kernelspec": {
   "display_name": "Python 3 (ipykernel)",
   "language": "python",
   "name": "python3"
  },
  "language_info": {
   "codemirror_mode": {
    "name": "ipython",
    "version": 3
   },
   "file_extension": ".py",
   "mimetype": "text/x-python",
   "name": "python",
   "nbconvert_exporter": "python",
   "pygments_lexer": "ipython3",
   "version": "3.10.11"
  }
 },
 "nbformat": 4,
 "nbformat_minor": 5
}
